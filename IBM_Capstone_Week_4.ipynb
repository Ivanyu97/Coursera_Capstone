{
 "cells": [
  {
   "cell_type": "markdown",
   "metadata": {},
   "source": [
    "# IBM Capstone"
   ]
  },
  {
   "cell_type": "markdown",
   "metadata": {},
   "source": [
    "## This notebook will be mainly used for the capstone project"
   ]
  },
  {
   "cell_type": "markdown",
   "metadata": {},
   "source": [
    "## Author: Ivan Yu"
   ]
  },
  {
   "cell_type": "markdown",
   "metadata": {},
   "source": [
    "## Week 4"
   ]
  },
  {
   "cell_type": "markdown",
   "metadata": {},
   "source": [
    "## Part 1\n",
    "### A description of the problem and a discussion of the background."
   ]
  },
  {
   "cell_type": "markdown",
   "metadata": {},
   "source": [
    "### Background"
   ]
  },
  {
   "cell_type": "markdown",
   "metadata": {},
   "source": [
    "St. Louis is an independent city in Missouri. It is the largest metropolitan area in the state of Missouri; however, the independent city of St. Louis is the second largest city in Missouri, behind Kansas City. It is situated along the western bank of the Mississippi River, which forms the state line between Illinois and Missouri. \n",
    "\n",
    "For residents, people enjoy shopping at shopping malls, dining at restaurants, watching movies at cinemas, and doing many other activities in their spare time to relax themselves. For government, shopping malls are very important in a city's business systems and provide a lot of purchasing power. For property developers, shopping malls can be the most profitable investment. Running a shopping malls in appropriate location allows property developers to earn considerable rental income as well as administrative fee. However, an arbitrary location selection may result the poor operation of shopping malls and lead to bankrupt.\n",
    "\n",
    "To sum up, opening a new shopping mall requires serious consideration, especially the location of the shopping mall. It is one of the most important decisions that will determine whether the mall will be a success or a failure."
   ]
  },
  {
   "cell_type": "markdown",
   "metadata": {},
   "source": [
    "### Business Problem"
   ]
  },
  {
   "cell_type": "markdown",
   "metadata": {},
   "source": [
    "In this project, we are going to analyze the distribution of shops, restaurants, cafe, etc. in St. Louis, and select the best locations to open a new shopping mall. \n",
    "\n",
    "For a specific loction, we will try to figure out questions like whether there are too much competitors, whether the business is flourishing in this area, etc. Finally, our project will provide suggestion to investors who are looking to open a new shopping mall on location selection."
   ]
  },
  {
   "cell_type": "markdown",
   "metadata": {},
   "source": [
    "## Part 2\n",
    "### A description of the data and how it will be used to solve the problem."
   ]
  },
  {
   "cell_type": "markdown",
   "metadata": {},
   "source": [
    "### Description of Data\n",
    "To solve the problem, we need the following data:\n",
    "\n",
    "1. The list of neighbourhoods in St. Louis. This defines the scope of this project which is confined to the city of St. Louis.\n",
    "\n",
    "    Data Source: https://en.wikipedia.org/wiki/List_of_neighborhoods_of_St._Louis\n",
    "\n",
    "\n",
    "2. Latitude and longitude coordinates of those neighbourhoods. This is required in order to plot the map and also to get the venue data.\n",
    "\n",
    "    Data Source: Geocoder package\n",
    "\n",
    "\n",
    "3. Venue data. Specifically, data related to shopping malls, restaurants, and cafe. We will use this data to perform clustering on the neighbourhoods.\n",
    "\n",
    "    Data Scource: Foursquare API"
   ]
  },
  {
   "cell_type": "markdown",
   "metadata": {},
   "source": [
    "### Methodology\n",
    "For the list of neighbourhoods in St. Louis, we will use requests and beautifulsoup packages to help extract the data from the Wikipedia page. For Latitude and longitude coordinates of neighbourhoods we already get, we will use Geocoder package to help retrive the information about the latitude and longitude. As for venue data, Foursquare API is a good data scource. Foursquare is a location data provider. Using the RESTful API to retrive data from Foursquare database is pretty easy. We can just simply create a uniform resource identifier, or URI, and append it with extra parameters depending on the data that we are seeking from the database.\n",
    "\n",
    "To analyze the data, we will perform clustering using k-means clustering. K-means clustering algorithm identifies k number of centroids, and then allocates every data point to the nearest cluster, while keeping the centroids as small as possible. It is one of the simplest and popular unsupervised machine learning algorithms and is particularly suited to solve the problem for this project. We will cluster the neighbourhoods into 3 clusters based on their frequency of occurrence for different venues. \n",
    "\n",
    "We will use the result to identify which neighbourhoods have higher concentration of shopping malls while which neighbourhoods have fewer number of shopping malls. Which neighbourhoods have higher concentration of restaurant and some other entertainment facilities while which neighbourhoods have fewer. With these information, we can answer the question: where is the most suitable location to open a new shopping mall we raised at beginning"
   ]
  }
 ],
 "metadata": {
  "kernelspec": {
   "display_name": "Python 3",
   "language": "python",
   "name": "python3"
  },
  "language_info": {
   "codemirror_mode": {
    "name": "ipython",
    "version": 3
   },
   "file_extension": ".py",
   "mimetype": "text/x-python",
   "name": "python",
   "nbconvert_exporter": "python",
   "pygments_lexer": "ipython3",
   "version": "3.7.4"
  }
 },
 "nbformat": 4,
 "nbformat_minor": 2
}
